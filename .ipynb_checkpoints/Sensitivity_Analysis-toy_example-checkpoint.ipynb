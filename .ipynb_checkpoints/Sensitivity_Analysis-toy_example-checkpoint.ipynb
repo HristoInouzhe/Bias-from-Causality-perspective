{
 "cells": [
  {
   "cell_type": "markdown",
   "metadata": {
    "colab_type": "text",
    "id": "view-in-github"
   },
   "source": [
    "<a href=\"https://colab.research.google.com/github/vveitch/causality-tutorials/blob/main/Sensitivity_Analysis.ipynb\" target=\"_parent\"><img src=\"https://colab.research.google.com/assets/colab-badge.svg\" alt=\"Open In Colab\"/></a>"
   ]
  },
  {
   "cell_type": "markdown",
   "metadata": {
    "id": "QfZkNLUb4B-p"
   },
   "source": [
    "# Propensity score estimation and Sensitivity Analysis for bias in Nursing Homes\n",
    "\n",
    "This is a companion to Unfair treatment in nursing homes: A toy example (Unfair_treatment_in_nursing_homes.Rmd) and provides an implementation for the tools used in https://arxiv.org/abs. Firstly, we provide estimates of the conditional probability of the treatment $Z$ with respect to the covariates $\\mathbf{X}$, a.k.a the propensity score $e(\\mathbf{X})=E(Z|\\mathbf{X})$. Secondly, we use the Austen plot method (https://arxiv.org/abs/2003.01747) to check the sensitivity to unobserved variables. What follows is largely based on the code provided in https://github.com/vveitch/causality-tutorials. "
   ]
  },
  {
   "cell_type": "code",
   "execution_count": 1,
   "metadata": {
    "colab": {
     "base_uri": "https://localhost:8080/"
    },
    "id": "1RrdIBTLQ9Ac",
    "outputId": "62c039df-51d7-4f31-a150-4b6a0e0f0b26",
    "vscode": {
     "languageId": "python"
    }
   },
   "outputs": [
    {
     "name": "stdout",
     "output_type": "stream",
     "text": [
      "Defaulting to user installation because normal site-packages is not writeable\n",
      "Requirement already satisfied: austen-plots in /home/hinouzhe/.local/lib/python3.6/site-packages (0.1.0)\n",
      "Requirement already satisfied: plotnine in /home/hinouzhe/.local/lib/python3.6/site-packages (from austen-plots) (0.8.0)\n",
      "Requirement already satisfied: tqdm in /home/hinouzhe/.local/lib/python3.6/site-packages (from austen-plots) (4.64.1)\n",
      "Requirement already satisfied: scipy in /home/hinouzhe/.local/lib/python3.6/site-packages (from austen-plots) (1.5.4)\n",
      "Requirement already satisfied: pandas in /home/hinouzhe/.local/lib/python3.6/site-packages (from austen-plots) (1.1.5)\n",
      "Requirement already satisfied: scikit-learn in /home/hinouzhe/.local/lib/python3.6/site-packages (from austen-plots) (0.24.2)\n",
      "Requirement already satisfied: numpy in /home/hinouzhe/.local/lib/python3.6/site-packages (from austen-plots) (1.19.5)\n",
      "Requirement already satisfied: python-dateutil>=2.7.3 in /home/hinouzhe/.local/lib/python3.6/site-packages (from pandas->austen-plots) (2.8.2)\n",
      "Requirement already satisfied: pytz>=2017.2 in /usr/lib/python3/dist-packages (from pandas->austen-plots) (2018.3)\n",
      "Requirement already satisfied: patsy>=0.5.1 in /home/hinouzhe/.local/lib/python3.6/site-packages (from plotnine->austen-plots) (0.5.3)\n",
      "Requirement already satisfied: descartes>=1.1.0 in /home/hinouzhe/.local/lib/python3.6/site-packages (from plotnine->austen-plots) (1.1.0)\n",
      "Requirement already satisfied: mizani>=0.7.3 in /home/hinouzhe/.local/lib/python3.6/site-packages (from plotnine->austen-plots) (0.7.3)\n",
      "Requirement already satisfied: statsmodels>=0.12.1 in /home/hinouzhe/.local/lib/python3.6/site-packages (from plotnine->austen-plots) (0.12.2)\n",
      "Requirement already satisfied: matplotlib>=3.1.1 in /home/hinouzhe/.local/lib/python3.6/site-packages (from plotnine->austen-plots) (3.3.4)\n",
      "Requirement already satisfied: joblib>=0.11 in /home/hinouzhe/.local/lib/python3.6/site-packages (from scikit-learn->austen-plots) (1.1.1)\n",
      "Requirement already satisfied: threadpoolctl>=2.0.0 in /home/hinouzhe/.local/lib/python3.6/site-packages (from scikit-learn->austen-plots) (3.1.0)\n",
      "Requirement already satisfied: importlib-resources in /home/hinouzhe/.local/lib/python3.6/site-packages (from tqdm->austen-plots) (5.4.0)\n",
      "Requirement already satisfied: kiwisolver>=1.0.1 in /home/hinouzhe/.local/lib/python3.6/site-packages (from matplotlib>=3.1.1->plotnine->austen-plots) (1.3.1)\n",
      "Requirement already satisfied: pillow>=6.2.0 in /home/hinouzhe/.local/lib/python3.6/site-packages (from matplotlib>=3.1.1->plotnine->austen-plots) (8.4.0)\n",
      "Requirement already satisfied: pyparsing!=2.0.4,!=2.1.2,!=2.1.6,>=2.0.3 in /home/hinouzhe/.local/lib/python3.6/site-packages (from matplotlib>=3.1.1->plotnine->austen-plots) (3.0.9)\n",
      "Requirement already satisfied: cycler>=0.10 in /home/hinouzhe/.local/lib/python3.6/site-packages (from matplotlib>=3.1.1->plotnine->austen-plots) (0.11.0)\n",
      "Requirement already satisfied: palettable in /home/hinouzhe/.local/lib/python3.6/site-packages (from mizani>=0.7.3->plotnine->austen-plots) (3.3.0)\n",
      "Requirement already satisfied: six in /home/hinouzhe/.local/lib/python3.6/site-packages (from patsy>=0.5.1->plotnine->austen-plots) (1.16.0)\n",
      "Requirement already satisfied: zipp>=3.1.0 in /home/hinouzhe/.local/lib/python3.6/site-packages (from importlib-resources->tqdm->austen-plots) (3.6.0)\n"
     ]
    }
   ],
   "source": [
    "!pip install austen-plots"
   ]
  },
  {
   "cell_type": "code",
   "execution_count": 2,
   "metadata": {
    "id": "dS2X3Bq1-fxE",
    "vscode": {
     "languageId": "python"
    }
   },
   "outputs": [],
   "source": [
    "import numpy as np\n",
    "import pandas as pd\n",
    "import scipy as sp\n",
    "from sklearn import preprocessing\n",
    "from sklearn.ensemble import RandomForestClassifier, RandomForestRegressor, GradientBoostingRegressor, GradientBoostingClassifier\n",
    "from sklearn.linear_model import LogisticRegression\n",
    "from sklearn.model_selection import KFold, StratifiedKFold, train_test_split\n",
    "from sklearn.metrics import mean_squared_error, log_loss, f1_score, roc_curve, auc\n",
    "import sklearn\n",
    "import os\n",
    "import pathlib\n",
    "\n",
    "from austen_plots.AustenPlot import AustenPlot"
   ]
  },
  {
   "cell_type": "code",
   "execution_count": 3,
   "metadata": {
    "id": "zNsGKVyLSRxn",
    "vscode": {
     "languageId": "python"
    }
   },
   "outputs": [],
   "source": [
    "RANDOM_SEED = 42\n",
    "np.random.seed(RANDOM_SEED)"
   ]
  },
  {
   "cell_type": "markdown",
   "metadata": {
    "id": "H0YG8hR8RRAP"
   },
   "source": [
    "# Data Loading and Initial Fit\n",
    "\n",
    "Load the synthetic nursing home bias data and fit models for the propensity score and conditional expected outcome model, in the same way we'd do in a standard adjustment-based treatment effect estimation. For this tutorial, we'll use random forests for both models. "
   ]
  },
  {
   "cell_type": "markdown",
   "metadata": {
    "id": "yPbJeayiEs3u"
   },
   "source": [
    "## Load and Format  Observational Data"
   ]
  },
  {
   "cell_type": "code",
   "execution_count": 4,
   "metadata": {
    "vscode": {
     "languageId": "python"
    }
   },
   "outputs": [],
   "source": [
    "def dataProcessing(data, var_outcome, var_treatment, var_drop, var_cont):\n",
    "    data[var_cont] = preprocessing.scale(data[var_cont])\n",
    "    confounders = data.drop(columns=var_drop)\n",
    "    outcome = data[var_outcome]\n",
    "    treatment = data[var_treatment]\n",
    "    return confounders, outcome, treatment"
   ]
  },
  {
   "cell_type": "code",
   "execution_count": 5,
   "metadata": {
    "vscode": {
     "languageId": "python"
    }
   },
   "outputs": [],
   "source": [
    "local_path = '/home/hinouzhe/pCloudDrive/R/Trimmed Matching for Causality/'\n",
    "COVID_wave_1 = pd.read_csv(local_path + 'Data/nursing_home_synthetic.csv', header=0, engine='python')"
   ]
  },
  {
   "cell_type": "code",
   "execution_count": 6,
   "metadata": {
    "vscode": {
     "languageId": "python"
    }
   },
   "outputs": [
    {
     "data": {
      "text/html": [
       "<div>\n",
       "<style scoped>\n",
       "    .dataframe tbody tr th:only-of-type {\n",
       "        vertical-align: middle;\n",
       "    }\n",
       "\n",
       "    .dataframe tbody tr th {\n",
       "        vertical-align: top;\n",
       "    }\n",
       "\n",
       "    .dataframe thead th {\n",
       "        text-align: right;\n",
       "    }\n",
       "</style>\n",
       "<table border=\"1\" class=\"dataframe\">\n",
       "  <thead>\n",
       "    <tr style=\"text-align: right;\">\n",
       "      <th></th>\n",
       "      <th>age</th>\n",
       "      <th>Charlson_index</th>\n",
       "      <th>time_to_positive</th>\n",
       "      <th>dementia</th>\n",
       "      <th>nursing_home</th>\n",
       "      <th>hospitalisation</th>\n",
       "    </tr>\n",
       "  </thead>\n",
       "  <tbody>\n",
       "    <tr>\n",
       "      <th>0</th>\n",
       "      <td>65</td>\n",
       "      <td>16</td>\n",
       "      <td>39</td>\n",
       "      <td>0</td>\n",
       "      <td>0</td>\n",
       "      <td>1</td>\n",
       "    </tr>\n",
       "    <tr>\n",
       "      <th>1</th>\n",
       "      <td>78</td>\n",
       "      <td>10</td>\n",
       "      <td>29</td>\n",
       "      <td>0</td>\n",
       "      <td>0</td>\n",
       "      <td>1</td>\n",
       "    </tr>\n",
       "    <tr>\n",
       "      <th>2</th>\n",
       "      <td>81</td>\n",
       "      <td>15</td>\n",
       "      <td>24</td>\n",
       "      <td>0</td>\n",
       "      <td>0</td>\n",
       "      <td>1</td>\n",
       "    </tr>\n",
       "    <tr>\n",
       "      <th>3</th>\n",
       "      <td>75</td>\n",
       "      <td>8</td>\n",
       "      <td>26</td>\n",
       "      <td>0</td>\n",
       "      <td>0</td>\n",
       "      <td>1</td>\n",
       "    </tr>\n",
       "    <tr>\n",
       "      <th>4</th>\n",
       "      <td>99</td>\n",
       "      <td>18</td>\n",
       "      <td>12</td>\n",
       "      <td>0</td>\n",
       "      <td>0</td>\n",
       "      <td>1</td>\n",
       "    </tr>\n",
       "  </tbody>\n",
       "</table>\n",
       "</div>"
      ],
      "text/plain": [
       "   age  Charlson_index  time_to_positive  dementia  nursing_home  \\\n",
       "0   65              16                39         0             0   \n",
       "1   78              10                29         0             0   \n",
       "2   81              15                24         0             0   \n",
       "3   75               8                26         0             0   \n",
       "4   99              18                12         0             0   \n",
       "\n",
       "   hospitalisation  \n",
       "0                1  \n",
       "1                1  \n",
       "2                1  \n",
       "3                1  \n",
       "4                1  "
      ]
     },
     "execution_count": 6,
     "metadata": {},
     "output_type": "execute_result"
    }
   ],
   "source": [
    "COVID_wave_1.head()"
   ]
  },
  {
   "cell_type": "code",
   "execution_count": 7,
   "metadata": {
    "vscode": {
     "languageId": "python"
    }
   },
   "outputs": [],
   "source": [
    "confounders, outcome, treatment = dataProcessing(COVID_wave_1, 'hospitalisation', 'nursing_home', ['hospitalisation', 'nursing_home'], ['age', 'time_to_positive'])"
   ]
  },
  {
   "cell_type": "code",
   "execution_count": 8,
   "metadata": {
    "vscode": {
     "languageId": "python"
    }
   },
   "outputs": [
    {
     "data": {
      "text/html": [
       "<div>\n",
       "<style scoped>\n",
       "    .dataframe tbody tr th:only-of-type {\n",
       "        vertical-align: middle;\n",
       "    }\n",
       "\n",
       "    .dataframe tbody tr th {\n",
       "        vertical-align: top;\n",
       "    }\n",
       "\n",
       "    .dataframe thead th {\n",
       "        text-align: right;\n",
       "    }\n",
       "</style>\n",
       "<table border=\"1\" class=\"dataframe\">\n",
       "  <thead>\n",
       "    <tr style=\"text-align: right;\">\n",
       "      <th></th>\n",
       "      <th>age</th>\n",
       "      <th>Charlson_index</th>\n",
       "      <th>time_to_positive</th>\n",
       "      <th>dementia</th>\n",
       "    </tr>\n",
       "  </thead>\n",
       "  <tbody>\n",
       "    <tr>\n",
       "      <th>0</th>\n",
       "      <td>-1.313732</td>\n",
       "      <td>16</td>\n",
       "      <td>-0.140199</td>\n",
       "      <td>0</td>\n",
       "    </tr>\n",
       "    <tr>\n",
       "      <th>1</th>\n",
       "      <td>-0.309468</td>\n",
       "      <td>10</td>\n",
       "      <td>-0.573579</td>\n",
       "      <td>0</td>\n",
       "    </tr>\n",
       "    <tr>\n",
       "      <th>2</th>\n",
       "      <td>-0.077715</td>\n",
       "      <td>15</td>\n",
       "      <td>-0.790270</td>\n",
       "      <td>0</td>\n",
       "    </tr>\n",
       "    <tr>\n",
       "      <th>3</th>\n",
       "      <td>-0.541221</td>\n",
       "      <td>8</td>\n",
       "      <td>-0.703594</td>\n",
       "      <td>0</td>\n",
       "    </tr>\n",
       "    <tr>\n",
       "      <th>4</th>\n",
       "      <td>1.312805</td>\n",
       "      <td>18</td>\n",
       "      <td>-1.310327</td>\n",
       "      <td>0</td>\n",
       "    </tr>\n",
       "  </tbody>\n",
       "</table>\n",
       "</div>"
      ],
      "text/plain": [
       "        age  Charlson_index  time_to_positive  dementia\n",
       "0 -1.313732              16         -0.140199         0\n",
       "1 -0.309468              10         -0.573579         0\n",
       "2 -0.077715              15         -0.790270         0\n",
       "3 -0.541221               8         -0.703594         0\n",
       "4  1.312805              18         -1.310327         0"
      ]
     },
     "execution_count": 8,
     "metadata": {},
     "output_type": "execute_result"
    }
   ],
   "source": [
    "confounders.head()"
   ]
  },
  {
   "cell_type": "code",
   "execution_count": 9,
   "metadata": {
    "vscode": {
     "languageId": "python"
    }
   },
   "outputs": [
    {
     "data": {
      "text/plain": [
       "0    1\n",
       "1    1\n",
       "2    1\n",
       "3    1\n",
       "4    1\n",
       "Name: hospitalisation, dtype: int64"
      ]
     },
     "execution_count": 9,
     "metadata": {},
     "output_type": "execute_result"
    }
   ],
   "source": [
    "outcome.head()"
   ]
  },
  {
   "cell_type": "code",
   "execution_count": 10,
   "metadata": {
    "vscode": {
     "languageId": "python"
    }
   },
   "outputs": [
    {
     "data": {
      "text/plain": [
       "0    0\n",
       "1    0\n",
       "2    0\n",
       "3    0\n",
       "4    0\n",
       "Name: nursing_home, dtype: int64"
      ]
     },
     "execution_count": 10,
     "metadata": {},
     "output_type": "execute_result"
    }
   ],
   "source": [
    "treatment.head()"
   ]
  },
  {
   "cell_type": "markdown",
   "metadata": {
    "id": "C576dWRsa3ad"
   },
   "source": [
    "## Specify Nuisance Function Models\n",
    "\n",
    "The next step is to specify models for the conditional expected outcome and propensity score"
   ]
  },
  {
   "cell_type": "code",
   "execution_count": 11,
   "metadata": {
    "vscode": {
     "languageId": "python"
    }
   },
   "outputs": [],
   "source": [
    "X_w_treatment = confounders.copy()\n",
    "X_w_treatment[\"treatment\"] = treatment\n",
    "\n",
    "X_train, X_test, y_train, y_test = train_test_split(X_w_treatment, outcome, test_size=0.2)"
   ]
  },
  {
   "cell_type": "code",
   "execution_count": 12,
   "metadata": {
    "colab": {
     "base_uri": "https://localhost:8080/"
    },
    "id": "qyOhSZRQRb8W",
    "outputId": "905a03a6-e8c0-4572-e3e0-6f195b6409ad",
    "vscode": {
     "languageId": "python"
    }
   },
   "outputs": [],
   "source": [
    "# Specify a model for the conditional expected outcome\n",
    "\n",
    "# Make a function that returns a sklearn model for later use in k-folding\n",
    "def make_Q_model():\n",
    "#  return LogisticRegression(max_iter=2000)\n",
    "  return RandomForestRegressor(random_state=RANDOM_SEED, n_estimators= 500, max_depth=5)\n",
    "# return GradientBoostingRegressor(random_state=RANDOM_SEED, n_estimators=300, max_depth=3)"
   ]
  },
  {
   "cell_type": "code",
   "execution_count": 13,
   "metadata": {
    "vscode": {
     "languageId": "python"
    }
   },
   "outputs": [
    {
     "name": "stdout",
     "output_type": "stream",
     "text": [
      "Test MSE of fit model 0.11853696835647408\n",
      "Test MSE of no-covariate model 0.25013906249999995\n",
      "Percentage improvement 52.61%\n"
     ]
    }
   ],
   "source": [
    "Q_model = make_Q_model()\n",
    "\n",
    "# Sanity check that chosen model actually improves test error\n",
    "# A real analysis should give substantial attention to model selection and validation \n",
    "Q_model.fit(X_train, y_train)\n",
    "y_pred = Q_model.predict(X_test)\n",
    "\n",
    "test_mse=mean_squared_error(y_pred, y_test)\n",
    "print(f\"Test MSE of fit model {test_mse}\") \n",
    "baseline_mse=mean_squared_error(y_train.mean()*np.ones_like(y_test), y_test)\n",
    "print(f\"Test MSE of no-covariate model {baseline_mse}\")\n",
    "print(f\"Percentage improvement {round((1 - test_mse / baseline_mse) * 100, 2)}%\")"
   ]
  },
  {
   "cell_type": "code",
   "execution_count": 14,
   "metadata": {
    "vscode": {
     "languageId": "python"
    }
   },
   "outputs": [
    {
     "name": "stdout",
     "output_type": "stream",
     "text": [
      "AUC: 0.92\n"
     ]
    }
   ],
   "source": [
    "# Checking the AUC performance\n",
    "fpr, tpr, thresholds = roc_curve(y_test, y_pred)\n",
    "print(f\"AUC: {round(auc(fpr, tpr), 2)}\")"
   ]
  },
  {
   "cell_type": "code",
   "execution_count": 15,
   "metadata": {
    "vscode": {
     "languageId": "python"
    }
   },
   "outputs": [],
   "source": [
    "X_train, X_test, a_train, a_test = train_test_split(confounders, treatment, test_size=0.2, stratify=treatment)"
   ]
  },
  {
   "cell_type": "code",
   "execution_count": 16,
   "metadata": {
    "colab": {
     "base_uri": "https://localhost:8080/"
    },
    "id": "uq6eZEBXbsaI",
    "outputId": "2a544732-9c9c-4ec6-be9c-8ef28610365c",
    "vscode": {
     "languageId": "python"
    }
   },
   "outputs": [],
   "source": [
    "# Specify a model for the propensity score\n",
    "\n",
    "def make_g_model():\n",
    "#  return LogisticRegression(max_iter=1000)\n",
    "  return RandomForestClassifier(n_estimators=500, max_depth=5)\n",
    "#  return GradientBoostingClassifier(n_estimators=300, max_depth=3)"
   ]
  },
  {
   "cell_type": "code",
   "execution_count": 17,
   "metadata": {
    "vscode": {
     "languageId": "python"
    }
   },
   "outputs": [
    {
     "name": "stdout",
     "output_type": "stream",
     "text": [
      "Test CE of fit model 0.32690246231920433\n",
      "Test CE of no-covariate model 0.6474466390346325\n",
      "Percentage improvement 49.51%\n"
     ]
    }
   ],
   "source": [
    "g_model = make_g_model()\n",
    "# Sanity check that chosen model actually improves test error\n",
    "# A real analysis should give substantial attention to model selection and validation \n",
    "g_model.fit(X_train, a_train)\n",
    "a_pred = g_model.predict_proba(X_test)[:,1]\n",
    "\n",
    "test_ce=log_loss(a_test, a_pred)\n",
    "print(f\"Test CE of fit model {test_ce}\") \n",
    "baseline_ce=log_loss(a_test, a_train.mean()*np.ones_like(a_test))\n",
    "print(f\"Test CE of no-covariate model {baseline_ce}\")\n",
    "print(f\"Percentage improvement {round((1 - test_ce / baseline_ce) * 100, 2)}%\")"
   ]
  },
  {
   "cell_type": "code",
   "execution_count": 18,
   "metadata": {
    "vscode": {
     "languageId": "python"
    }
   },
   "outputs": [
    {
     "name": "stdout",
     "output_type": "stream",
     "text": [
      "AUC: 0.93\n"
     ]
    }
   ],
   "source": [
    "# Checking the AUC performance\n",
    "fpr, tpr, thresholds = roc_curve(a_test, a_pred, pos_label=1)\n",
    "print(f\"AUC: {round(auc(fpr, tpr), 2)}\")"
   ]
  },
  {
   "cell_type": "markdown",
   "metadata": {
    "id": "2RkvV_4_dFWo"
   },
   "source": [
    "## Use cross fitting to get get predicted outcomes and propensity scores for each unit"
   ]
  },
  {
   "cell_type": "code",
   "execution_count": 19,
   "metadata": {
    "id": "KA0AsEGJ_X3b",
    "vscode": {
     "languageId": "python"
    }
   },
   "outputs": [],
   "source": [
    "# Helper functions to implement the cross fitting\n",
    "\n",
    "def treatment_k_fold_fit_and_predict(make_model, X:pd.DataFrame, A:np.array, n_splits:int):\n",
    "    \"\"\"\n",
    "    Implements K fold cross-fitting for the model predicting the treatment A. \n",
    "    That is, \n",
    "    1. Split data into K folds\n",
    "    2. For each fold j, the model is fit on the other K-1 folds\n",
    "    3. The fitted model is used to make predictions for each data point in fold j\n",
    "    Returns an array containing the predictions  \n",
    "\n",
    "    Args:\n",
    "    model: function that returns sklearn model (which implements fit and predict_prob)\n",
    "    X: dataframe of variables to adjust for\n",
    "    A: array of treatments\n",
    "    n_splits: number of splits to use\n",
    "    \"\"\"\n",
    "    predictions = np.full_like(A, np.nan, dtype=float)\n",
    "    kf = StratifiedKFold(n_splits=n_splits, shuffle=True, random_state=RANDOM_SEED)\n",
    "    \n",
    "    for train_index, test_index in kf.split(X, A):\n",
    "      X_train = X.loc[train_index]\n",
    "      A_train = A.loc[train_index]\n",
    "      g = make_model()\n",
    "      g.fit(X_train, A_train)\n",
    "\n",
    "      # get predictions for split\n",
    "      predictions[test_index] = g.predict_proba(X.loc[test_index])[:, 1]\n",
    "\n",
    "    assert np.isnan(predictions).sum() == 0\n",
    "    return predictions\n",
    "\n",
    "\n",
    "def outcome_k_fold_fit_and_predict(make_model, X:pd.DataFrame, y:np.array, A:np.array, n_splits:int, output_type:str):\n",
    "    \"\"\"\n",
    "    Implements K fold cross-fitting for the model predicting the outcome Y. \n",
    "    That is, \n",
    "    1. Split data into K folds\n",
    "    2. For each fold j, the model is fit on the other K-1 folds\n",
    "    3. The fitted model is used to make predictions for each data point in fold j\n",
    "    Returns two arrays containing the predictions for all units untreated, all units treated  \n",
    "\n",
    "    Args:\n",
    "    model: function that returns sklearn model (that implements fit and either predict_prob or predict)\n",
    "    X: dataframe of variables to adjust for\n",
    "    y: array of outcomes\n",
    "    A: array of treatments\n",
    "    n_splits: number of splits to use\n",
    "    output_type: type of outcome, \"binary\" or \"continuous\"\n",
    "\n",
    "    \"\"\"\n",
    "    predictions0 = np.full_like(A, np.nan, dtype=float)\n",
    "    predictions1 = np.full_like(y, np.nan, dtype=float)\n",
    "    if output_type == 'binary':\n",
    "      kf = StratifiedKFold(n_splits=n_splits, shuffle=True, random_state=RANDOM_SEED)\n",
    "    elif output_type == 'continuous':\n",
    "      kf = KFold(n_splits=n_splits, shuffle=True, random_state=RANDOM_SEED)\n",
    "\n",
    "    # include the treatment as input feature\n",
    "    X_w_treatment = X.copy()\n",
    "    X_w_treatment[\"A\"] = A\n",
    "\n",
    "    # for predicting effect under treatment / control status for each data point \n",
    "    X0 = X_w_treatment.copy()\n",
    "    X0[\"A\"] = 0\n",
    "    X1 = X_w_treatment.copy()\n",
    "    X1[\"A\"] = 1\n",
    "\n",
    "    \n",
    "    for train_index, test_index in kf.split(X_w_treatment, y):\n",
    "      X_train = X_w_treatment.loc[train_index]\n",
    "      y_train = y.loc[train_index]\n",
    "      q = make_model()\n",
    "      q.fit(X_train, y_train)\n",
    "\n",
    "      if output_type =='binary':\n",
    "        predictions0[test_index] = q.predict_proba(X0.loc[test_index])[:, 1]\n",
    "        predictions1[test_index] = q.predict_proba(X1.loc[test_index])[:, 1]\n",
    "      elif output_type == 'continuous':\n",
    "        predictions0[test_index] = q.predict(X0.loc[test_index])\n",
    "        predictions1[test_index] = q.predict(X1.loc[test_index])\n",
    "\n",
    "    assert np.isnan(predictions0).sum() == 0\n",
    "    assert np.isnan(predictions1).sum() == 0\n",
    "    return predictions0, predictions1"
   ]
  },
  {
   "cell_type": "code",
   "execution_count": 20,
   "metadata": {
    "id": "wVcE6pRQeMNf",
    "vscode": {
     "languageId": "python"
    }
   },
   "outputs": [],
   "source": [
    "# Estimation of the propensity score\n",
    "g = treatment_k_fold_fit_and_predict(make_g_model, X=confounders, A=treatment, n_splits=5)"
   ]
  },
  {
   "cell_type": "code",
   "execution_count": 21,
   "metadata": {
    "vscode": {
     "languageId": "python"
    }
   },
   "outputs": [],
   "source": [
    "np.savetxt(\"Data/propensity_period_1_toy.csv\", g, delimiter = \",\")"
   ]
  },
  {
   "cell_type": "code",
   "execution_count": 22,
   "metadata": {
    "id": "GLEHlLLdWSh9",
    "vscode": {
     "languageId": "python"
    }
   },
   "outputs": [],
   "source": [
    "# Estimation of the potential outcomes\n",
    "Q0,Q1=outcome_k_fold_fit_and_predict(make_Q_model, X=confounders, y=outcome, A=treatment, n_splits=5, output_type=\"continuous\")"
   ]
  },
  {
   "cell_type": "code",
   "execution_count": 23,
   "metadata": {
    "colab": {
     "base_uri": "https://localhost:8080/",
     "height": 203
    },
    "id": "_NVCV0q0g8wQ",
    "outputId": "9f4fb865-3b5f-4e46-f7a3-c343b1924e9e",
    "vscode": {
     "languageId": "python"
    }
   },
   "outputs": [
    {
     "data": {
      "text/html": [
       "<div>\n",
       "<style scoped>\n",
       "    .dataframe tbody tr th:only-of-type {\n",
       "        vertical-align: middle;\n",
       "    }\n",
       "\n",
       "    .dataframe tbody tr th {\n",
       "        vertical-align: top;\n",
       "    }\n",
       "\n",
       "    .dataframe thead th {\n",
       "        text-align: right;\n",
       "    }\n",
       "</style>\n",
       "<table border=\"1\" class=\"dataframe\">\n",
       "  <thead>\n",
       "    <tr style=\"text-align: right;\">\n",
       "      <th></th>\n",
       "      <th>g</th>\n",
       "      <th>Q0</th>\n",
       "      <th>Q1</th>\n",
       "      <th>A</th>\n",
       "      <th>Y</th>\n",
       "    </tr>\n",
       "  </thead>\n",
       "  <tbody>\n",
       "    <tr>\n",
       "      <th>0</th>\n",
       "      <td>0.051188</td>\n",
       "      <td>0.843453</td>\n",
       "      <td>0.387232</td>\n",
       "      <td>0</td>\n",
       "      <td>1</td>\n",
       "    </tr>\n",
       "    <tr>\n",
       "      <th>1</th>\n",
       "      <td>0.053478</td>\n",
       "      <td>0.938830</td>\n",
       "      <td>0.573644</td>\n",
       "      <td>0</td>\n",
       "      <td>1</td>\n",
       "    </tr>\n",
       "    <tr>\n",
       "      <th>2</th>\n",
       "      <td>0.029040</td>\n",
       "      <td>0.975369</td>\n",
       "      <td>0.705376</td>\n",
       "      <td>0</td>\n",
       "      <td>1</td>\n",
       "    </tr>\n",
       "    <tr>\n",
       "      <th>3</th>\n",
       "      <td>0.073690</td>\n",
       "      <td>0.953113</td>\n",
       "      <td>0.476715</td>\n",
       "      <td>0</td>\n",
       "      <td>1</td>\n",
       "    </tr>\n",
       "    <tr>\n",
       "      <th>4</th>\n",
       "      <td>0.249776</td>\n",
       "      <td>0.965763</td>\n",
       "      <td>0.893060</td>\n",
       "      <td>0</td>\n",
       "      <td>1</td>\n",
       "    </tr>\n",
       "  </tbody>\n",
       "</table>\n",
       "</div>"
      ],
      "text/plain": [
       "          g        Q0        Q1  A  Y\n",
       "0  0.051188  0.843453  0.387232  0  1\n",
       "1  0.053478  0.938830  0.573644  0  1\n",
       "2  0.029040  0.975369  0.705376  0  1\n",
       "3  0.073690  0.953113  0.476715  0  1\n",
       "4  0.249776  0.965763  0.893060  0  1"
      ]
     },
     "execution_count": 23,
     "metadata": {},
     "output_type": "execute_result"
    }
   ],
   "source": [
    "data_and_nuisance_estimates = pd.DataFrame({'g': g, 'Q0': Q0, 'Q1': Q1, 'A': treatment, 'Y': outcome})\n",
    "data_and_nuisance_estimates.head()"
   ]
  },
  {
   "cell_type": "markdown",
   "metadata": {
    "id": "VNhM7URdgzQB"
   },
   "source": [
    "## Combine predicted values and data into estimate of ATE"
   ]
  },
  {
   "cell_type": "code",
   "execution_count": 24,
   "metadata": {
    "id": "O_F5r0SSkzzK",
    "vscode": {
     "languageId": "python"
    }
   },
   "outputs": [],
   "source": [
    "# A doubly robust estimator of the ATE\n",
    "def ate_aiptw(Q0, Q1, g, A, Y, prob_t=None):\n",
    "  \"\"\"\n",
    "  # Double ML estimator for the ATE\n",
    "  \"\"\"\n",
    "\n",
    "  tau_hat = (Q1 - Q0 + A*(Y-Q1)/g - (1-A)*(Y-Q0)/(1-g)).mean()\n",
    "  \n",
    "  scores = Q1 - Q0 + A*(Y-Q1)/g - (1-A)*(Y-Q0)/(1-g) - tau_hat\n",
    "  n = Y.shape[0] # number of observations\n",
    "  std_hat = np.std(scores) / np.sqrt(n)\n",
    "\n",
    "  return tau_hat, std_hat\n"
   ]
  },
  {
   "cell_type": "code",
   "execution_count": 25,
   "metadata": {
    "vscode": {
     "languageId": "python"
    }
   },
   "outputs": [],
   "source": [
    "# An ATE estimator based on inverse propensity score weighting\n",
    "def ate_aiptw_g(g, A, Y, prob_t=None):\n",
    "  \"\"\"\n",
    "  # Single ML estimator for the ATE\n",
    "  \"\"\"\n",
    "\n",
    "  tau_hat = (A*Y/g - (1-A)*Y/(1-g)).mean()\n",
    "  \n",
    "  scores = A*Y/g - (1-A)*Y/(1-g) - tau_hat\n",
    "  n = Y.shape[0] # number of observations\n",
    "  std_hat = np.std(scores) / np.sqrt(n)\n",
    "\n",
    "  return tau_hat, std_hat"
   ]
  },
  {
   "cell_type": "code",
   "execution_count": 26,
   "metadata": {
    "vscode": {
     "languageId": "python"
    }
   },
   "outputs": [
    {
     "name": "stdout",
     "output_type": "stream",
     "text": [
      "The estimate is -0.3520614721196016 pm 0.014029756271032395\n"
     ]
    }
   ],
   "source": [
    "# ATE estimator based on the adjustment formula\n",
    "ate_corrected = np.mean(data_and_nuisance_estimates['Q1'] - data_and_nuisance_estimates['Q0'])\n",
    "n_data = data_and_nuisance_estimates['Q0'].shape[0]\n",
    "ci_ate_corercted = 1.96 * np.std(data_and_nuisance_estimates['Q1'] - data_and_nuisance_estimates['Q0']) / np.sqrt(n_data)\n",
    "print(f\"The estimate is {ate_corrected} pm {ci_ate_corercted}\")"
   ]
  },
  {
   "cell_type": "code",
   "execution_count": 27,
   "metadata": {
    "colab": {
     "base_uri": "https://localhost:8080/"
    },
    "id": "SjDj0F9Bm9uq",
    "outputId": "e3a2f168-1bf8-47fd-f046-dd05390bf0d5",
    "vscode": {
     "languageId": "python"
    }
   },
   "outputs": [
    {
     "name": "stdout",
     "output_type": "stream",
     "text": [
      "The estimate is -0.3118251033807117 pm 0.04904907241505908\n"
     ]
    }
   ],
   "source": [
    "tau_hat, std_hat = ate_aiptw(**data_and_nuisance_estimates)\n",
    "print(f\"The estimate is {tau_hat} pm {1.96*std_hat}\")"
   ]
  },
  {
   "cell_type": "code",
   "execution_count": 28,
   "metadata": {
    "vscode": {
     "languageId": "python"
    }
   },
   "outputs": [
    {
     "name": "stdout",
     "output_type": "stream",
     "text": [
      "The estimate is -0.46463133156715974 pm 0.06922173672521595\n"
     ]
    }
   ],
   "source": [
    "tau_hat_2, std_hat_2 = ate_aiptw_g(**data_and_nuisance_estimates[['g','A','Y']])\n",
    "print(f\"The estimate is {tau_hat_2} pm {1.96*std_hat_2}\")"
   ]
  },
  {
   "cell_type": "code",
   "execution_count": 29,
   "metadata": {
    "vscode": {
     "languageId": "python"
    }
   },
   "outputs": [],
   "source": [
    "np.savetxt(\"Data/ate_python.csv\", [[ate_corrected, ci_ate_corercted], [tau_hat, 1.96*std_hat], [tau_hat_2, 1.96*std_hat_2]], delimiter = \",\")"
   ]
  },
  {
   "cell_type": "markdown",
   "metadata": {
    "id": "L_GUa-5vMmL4",
    "tags": []
   },
   "source": [
    "# Sensitivity Analysis\n",
    "\n",
    "We found an average treatment effect of Nursing home status on hospitalisation of about -0.35, significant at the 0.95 level. We'd now conduct some analysis to decide how sensitive this conclusions is to possible unobserved confounding."
   ]
  },
  {
   "cell_type": "code",
   "execution_count": 41,
   "metadata": {
    "id": "zEv_RlkUNQZ9",
    "vscode": {
     "languageId": "python"
    }
   },
   "outputs": [],
   "source": [
    "# The first step is to choose a level of bias that would undermine the qualitative conclusion of the study.\n",
    "# However, it may be too high for our particular example so we choose a lower value.\n",
    "# We'll go with the nominal effect.\n",
    "target_bias = 0.1 # note: bias is specified as an absolute number"
   ]
  },
  {
   "cell_type": "markdown",
   "metadata": {
    "id": "bDeSqyvvN3mg"
   },
   "source": [
    "## Compute influence strength of covariates\n",
    "Our task is to assess whether it's plausible that an unobserved confounder could be strong enough to induce a bias of 0.1 or more. To make that easier, we'd like to know how strong the observed confounders are. Austen plots computes these reference strengths by seeing how much model performance degrades when the covariates are removed. Accordingly, we refit the models with each (group of) reference covariate removed.  "
   ]
  },
  {
   "cell_type": "code",
   "execution_count": 42,
   "metadata": {
    "vscode": {
     "languageId": "python"
    }
   },
   "outputs": [],
   "source": [
    "covariate_groups = {\n",
    "    'age&comorb': ['age', 'Charlson_index', 'dementia'],\n",
    "    'time': ['time_to_positive']}"
   ]
  },
  {
   "cell_type": "code",
   "execution_count": 43,
   "metadata": {
    "id": "eLskfBqCQlwZ",
    "vscode": {
     "languageId": "python"
    }
   },
   "outputs": [],
   "source": [
    "# For each covariate group, refit the models without using that group\n",
    "nuisance_estimates = {}\n",
    "for group, covs in covariate_groups.items():\n",
    "  remaining_confounders = confounders.drop(columns=covs)\n",
    "\n",
    "  g = treatment_k_fold_fit_and_predict(make_g_model, X=remaining_confounders, A=treatment, n_splits=5)\n",
    "  Q0, Q1 = outcome_k_fold_fit_and_predict(make_Q_model, X=remaining_confounders, y=outcome, A=treatment, n_splits=5, output_type=\"continuous\")\n",
    "\n",
    "  data_and_nuisance_estimates = pd.DataFrame({'g': g, 'Q0': Q0, 'Q1': Q1, 'A': treatment, 'Y': outcome})\n",
    "  nuisance_estimates[group] = data_and_nuisance_estimates\n"
   ]
  },
  {
   "cell_type": "markdown",
   "metadata": {
    "id": "73aTyanbTihM"
   },
   "source": [
    "## Save computed estimates as CSVs\n",
    "The Austen plot code expects the nuisance function estimates to be provided as csvs with columns 'g', 'Q', 't', 'y'"
   ]
  },
  {
   "cell_type": "code",
   "execution_count": 44,
   "metadata": {
    "id": "Am4bdBMGXhqr",
    "vscode": {
     "languageId": "python"
    }
   },
   "outputs": [],
   "source": [
    "data_and_nuisance_path = local_path + 'data_and_nuisance_estimates.csv'\n",
    "covariate_dir_path = local_path + 'covariates/'\n",
    "bootstrap_dir_path = local_path + 'bootstrap/'"
   ]
  },
  {
   "cell_type": "code",
   "execution_count": 45,
   "metadata": {
    "id": "YJ-QU3gXSqiz",
    "vscode": {
     "languageId": "python"
    }
   },
   "outputs": [],
   "source": [
    "def _convert_to_austen_format(nuisance_estimate_df: pd.DataFrame):\n",
    "  austen_df = pd.DataFrame()\n",
    "  austen_df['y']=nuisance_estimate_df['Y']\n",
    "  austen_df['t']=nuisance_estimate_df['A']\n",
    "  austen_df['g']=nuisance_estimate_df['g']\n",
    "  A = nuisance_estimate_df['A']\n",
    "  austen_df['Q']=A*nuisance_estimate_df['Q1'] + (1-A)*nuisance_estimate_df['Q0'] # use Q1 when A = 1, and Q0 when A = 0\n",
    "\n",
    "  return austen_df"
   ]
  },
  {
   "cell_type": "code",
   "execution_count": 46,
   "metadata": {
    "id": "31BWqKXmVAQr",
    "vscode": {
     "languageId": "python"
    }
   },
   "outputs": [],
   "source": [
    "austen_data_and_nuisance = _convert_to_austen_format(data_and_nuisance_estimates)\n",
    "austen_data_and_nuisance.to_csv(data_and_nuisance_path, index=False)\n",
    "\n",
    "pathlib.Path(covariate_dir_path).mkdir(exist_ok=True)\n",
    "for group, nuisance_estimate in nuisance_estimates.items():\n",
    "  austen_nuisance_estimate = _convert_to_austen_format(nuisance_estimate)\n",
    "  austen_nuisance_estimate.to_csv(os.path.join(covariate_dir_path,group+\".csv\"), index=False)"
   ]
  },
  {
   "cell_type": "markdown",
   "metadata": {
    "id": "C84zSBeIVe0L"
   },
   "source": [
    "## Make plots"
   ]
  },
  {
   "cell_type": "code",
   "execution_count": 47,
   "metadata": {
    "id": "2C0cixtvVhmD",
    "vscode": {
     "languageId": "python"
    }
   },
   "outputs": [],
   "source": [
    "ap = AustenPlot(data_and_nuisance_path, covariate_dir_path)"
   ]
  },
  {
   "cell_type": "code",
   "execution_count": 48,
   "metadata": {
    "colab": {
     "base_uri": "https://localhost:8080/"
    },
    "id": "JFgN5L6YW0oF",
    "outputId": "9bb60caf-daef-4ba3-8ab2-8a4f6d3b43eb",
    "vscode": {
     "languageId": "python"
    }
   },
   "outputs": [
    {
     "name": "stdout",
     "output_type": "stream",
     "text": [
      "Fitting main dataset\n"
     ]
    }
   ],
   "source": [
    "p, plot_coords, variable_coords = ap.fit(bias=target_bias, do_bootstrap=None) # recall we set target_bias = 0.1; "
   ]
  },
  {
   "cell_type": "code",
   "execution_count": null,
   "metadata": {
    "colab": {
     "base_uri": "https://localhost:8080/",
     "height": 396
    },
    "id": "lfPaV4IDckdS",
    "outputId": "56a1085c-cc7d-45e7-d61b-832125c05857",
    "vscode": {
     "languageId": "python"
    }
   },
   "outputs": [
    {
     "data": {
      "image/png": "[encoded data removed]",
      "text/plain": [
       "<Figure size 350x350 with 1 Axes>"
      ]
     },
     "metadata": {},
     "output_type": "display_data"
    },
    {
     "data": {
      "text/plain": [
       "<ggplot: (-9223363300300380556)>"
      ]
     },
     "execution_count": 49,
     "metadata": {},
     "output_type": "execute_result"
    }
   ],
   "source": [
    "p"
   ]
  },
  {
   "cell_type": "markdown",
   "metadata": {},
   "source": [
    "## Bootstrap estimates\n",
    "What follows provides the code necesarry to performe bootstap estimates for the sensitivity analysis. This can be relatively time consuming, it may take several hours to perform. We chose to save the data and do the plot in R, since we found a tiny bug in the plotting procedure (in the error bars). "
   ]
  },
  {
   "cell_type": "code",
   "execution_count": null,
   "metadata": {
    "vscode": {
     "languageId": "python"
    }
   },
   "outputs": [],
   "source": [
    "period = '0'\n",
    "hospital = 'no'\n",
    "out = \"hospitalisation\""
   ]
  },
  {
   "cell_type": "code",
   "execution_count": null,
   "metadata": {
    "vscode": {
     "languageId": "python"
    }
   },
   "outputs": [],
   "source": [
    "data_and_nuisance_path = local_path + 'period_' + period + '_hosp_' + hospital + '_outcome_' + out + '/data_and_nuisance_estimates.csv'\n",
    "covariate_dir_path_0 = local_path + 'period_' + period + '_hosp_' + hospital + '_outcome_' + out + '/covariates/'\n",
    "bootstrap_dir_path_0 = local_path + '/period_' + period + '_hosp_' + hospital + '_outcome_' + out + '/bootstrap/'"
   ]
  },
  {
   "cell_type": "code",
   "execution_count": null,
   "metadata": {
    "vscode": {
     "languageId": "python"
    }
   },
   "outputs": [],
   "source": [
    "austen_data_and_nuisance = _convert_to_austen_format(data_and_nuisance_estimates)\n",
    "austen_data_and_nuisance.to_csv(data_and_nuisance_path, index=False)\n",
    "\n",
    "pathlib.Path(covariate_dir_path_0).mkdir(exist_ok=True)\n",
    "for group, nuisance_estimate in nuisance_estimates.items():\n",
    "  austen_nuisance_estimate = _convert_to_austen_format(nuisance_estimate)\n",
    "  austen_nuisance_estimate.to_csv(os.path.join(covariate_dir_path_0,group+\".csv\"), index=False)"
   ]
  },
  {
   "cell_type": "code",
   "execution_count": null,
   "metadata": {
    "vscode": {
     "languageId": "python"
    }
   },
   "outputs": [],
   "source": [
    "for x in range(100):\n",
    "    bootstrap_indexes = np.random.choice(COVID_wave_1.shape[0] - 1, COVID_wave_1.shape[0])\n",
    "    COVID_wave_1_boot = COVID_wave_1.loc[bootstrap_indexes,]\n",
    "    COVID_wave_1_boot.index = range(COVID_wave_1.shape[0])\n",
    "\n",
    "    confounders = COVID_wave_1_boot.drop(columns=['hospitalisation', 'nursing_home'])\n",
    "\n",
    "    outcome = COVID_wave_1_boot['hospitalisation']\n",
    "\n",
    "    treatment = COVID_wave_3_hosp_boot['nursing_home']\n",
    "\n",
    "    nuisance_estimates = {}\n",
    "    for group, covs in covariate_groups.items():\n",
    "        remaining_confounders = confounders.drop(columns=covs)\n",
    "\n",
    "        g = treatment_k_fold_fit_and_predict(make_g_model, X=remaining_confounders, A=treatment, n_splits=5)\n",
    "        Q0, Q1 = outcome_k_fold_fit_and_predict(make_Q_model, X=remaining_confounders, y=outcome, A=treatment, n_splits=5, output_type=\"continuous\")\n",
    "\n",
    "        data_and_nuisance_estimates = pd.DataFrame({'g': g, 'Q0': Q0, 'Q1': Q1, 'A': treatment, 'Y': outcome})\n",
    "        nuisance_estimates[group] = data_and_nuisance_estimates\n",
    "\n",
    "    bootstrap_dir_path = bootstrap_dir_path_0 + \"bootstrap\" + str(x) + '/'\n",
    "    os.makedirs(bootstrap_dir_path)\n",
    "    data_and_nuisance_path = bootstrap_dir_path + 'data_and_nuisance_estimates.csv'\n",
    "    covariate_dir_path = bootstrap_dir_path + '/covariates/'\n",
    "\n",
    "    austen_data_and_nuisance = _convert_to_austen_format(data_and_nuisance_estimates)\n",
    "    austen_data_and_nuisance.to_csv(data_and_nuisance_path, index=False)\n",
    "\n",
    "    pathlib.Path(covariate_dir_path).mkdir(exist_ok=True)\n",
    "    for group, nuisance_estimate in nuisance_estimates.items():\n",
    "        austen_nuisance_estimate = _convert_to_austen_format(nuisance_estimate)\n",
    "        austen_nuisance_estimate.to_csv(os.path.join(covariate_dir_path,group+\".csv\"), index=False)    "
   ]
  },
  {
   "cell_type": "code",
   "execution_count": null,
   "metadata": {
    "vscode": {
     "languageId": "python"
    }
   },
   "outputs": [],
   "source": [
    "variable_coords.to_csv(os.path.join(local_path + 'period_' + period + '_hosp_' + hospital + '_outcome_' + out + '/',\"output_original_vars_main\"+\".csv\"), index=False)"
   ]
  },
  {
   "cell_type": "code",
   "execution_count": null,
   "metadata": {
    "vscode": {
     "languageId": "python"
    }
   },
   "outputs": [],
   "source": [
    "ap = AustenPlot(data_and_nuisance_path, covariate_dir_path_0, bootstrap_dir_path_0)"
   ]
  },
  {
   "cell_type": "code",
   "execution_count": null,
   "metadata": {
    "vscode": {
     "languageId": "python"
    }
   },
   "outputs": [],
   "source": [
    "p, plot_coords, variable_coords = ap.fit(bias=target_bias, do_bootstrap=True) # recall we set target_bias=2.0; "
   ]
  },
  {
   "cell_type": "code",
   "execution_count": null,
   "metadata": {
    "vscode": {
     "languageId": "python"
    }
   },
   "outputs": [],
   "source": [
    "plot_coords.to_csv(os.path.join(local_path + 'period_' + period + '_hosp_' + hospital + '_outcome_' + out + '/',\"output_boot_vars\"+\".csv\"), index=False)"
   ]
  },
  {
   "cell_type": "code",
   "execution_count": null,
   "metadata": {
    "vscode": {
     "languageId": "python"
    }
   },
   "outputs": [],
   "source": [
    "variable_coords.to_csv(os.path.join(local_path + 'period_' + period + '_hosp_' + hospital + '_outcome_' + out + '/',\"output_original_vars\"+\".csv\"), index=False)"
   ]
  }
 ],
 "metadata": {
  "colab": {
   "collapsed_sections": [],
   "include_colab_link": true,
   "name": "Sensitivity_Analysis.ipynb",
   "provenance": []
  },
  "kernelspec": {
   "display_name": "Python 3",
   "language": "python",
   "name": "python3"
  },
  "language_info": {
   "codemirror_mode": {
    "name": "ipython",
    "version": 3
   },
   "file_extension": ".py",
   "mimetype": "text/x-python",
   "name": "python",
   "nbconvert_exporter": "python",
   "pygments_lexer": "ipython3",
   "version": "3.6.9"
  }
 },
 "nbformat": 4,
 "nbformat_minor": 4
}
